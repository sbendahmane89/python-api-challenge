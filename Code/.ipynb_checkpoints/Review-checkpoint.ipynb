{
 "cells": [
  {
   "cell_type": "code",
   "execution_count": 1,
   "id": "e7ec354e-3b77-470b-9a1f-a96b004515a8",
   "metadata": {},
   "outputs": [
    {
     "name": "stdout",
     "output_type": "stream",
     "text": [
      "Requirement already satisfied: citipy in c:\\users\\safbe\\appdata\\local\\programs\\python\\python313\\lib\\site-packages (0.0.6)\n",
      "Requirement already satisfied: kdtree>=0.12 in c:\\users\\safbe\\appdata\\local\\programs\\python\\python313\\lib\\site-packages (from citipy) (0.16)\n",
      "Note: you may need to restart the kernel to use updated packages.\n"
     ]
    }
   ],
   "source": [
    "pip install citipy"
   ]
  },
  {
   "cell_type": "code",
   "execution_count": 48,
   "id": "5c0bbbcb-d48c-4307-a4aa-24d2dde2e65e",
   "metadata": {},
   "outputs": [],
   "source": [
    "#import the citipy module \n",
    "from citipy import citipy"
   ]
  },
  {
   "cell_type": "code",
   "execution_count": 49,
   "id": "4725afef-e98e-462b-a535-77b319ae7c21",
   "metadata": {},
   "outputs": [
    {
     "name": "stdout",
     "output_type": "stream",
     "text": [
      "atlanta\n"
     ]
    }
   ],
   "source": [
    "# use citipy. nearest_city(lat, lng).city_name to find the nearest city name based on lat and lng coords\n",
    "\n",
    "# + latitude = north henisphere / - latitude = southern hemisphere\n",
    "# + longtitude = east of prime meridian / - Longitude = west of prime meridian \n",
    "\n",
    "cityName = citipy.nearest_city(33.748, -84.387).city_name\n",
    "\n",
    "print(cityName)\n"
   ]
  },
  {
   "cell_type": "code",
   "execution_count": 50,
   "id": "876b3a88-e11f-436d-82c5-7c7af3de4bae",
   "metadata": {},
   "outputs": [],
   "source": [
    "# generate a list of lats and lons and then add those to a tuple\n",
    "# import numpy \n",
    "import numpy as np \n"
   ]
  },
  {
   "cell_type": "code",
   "execution_count": 51,
   "id": "409d144a-247a-4fde-b9ad-2b8fcebd75bd",
   "metadata": {},
   "outputs": [],
   "source": [
    "# set the range of lats and longs for United States\n",
    "latRange = (24, 50)\n",
    "lngRange = (-125, 68)\n"
   ]
  },
  {
   "cell_type": "code",
   "execution_count": 52,
   "id": "bb90222b-6652-40a6-ac82-81c48e810040",
   "metadata": {},
   "outputs": [],
   "source": [
    "# use np.random.uniform to generate a series of values in a range \n",
    "lats = np.random.uniform(latRange[0], latRange[1], size=50)\n",
    "lons = np.random.uniform(lngRange[0], lngRange[1], size=50)\n",
    "\n",
    "# zip the lists of lats and lons into tuple\n",
    "latLongs = zip(lats, lons)\n"
   ]
  },
  {
   "cell_type": "code",
   "execution_count": 53,
   "id": "6f64b61d-ac5b-4ead-b5f5-3ff32c735747",
   "metadata": {},
   "outputs": [
    {
     "name": "stdout",
     "output_type": "stream",
     "text": [
      "marsa alam\n",
      "vila franca do campo\n",
      "st. john's\n",
      "nedelino\n",
      "lazaro cardenas\n",
      "metlili chaamba\n",
      "port isabel\n",
      "ponta delgada\n",
      "cihanbeyli\n",
      "sault ste. marie\n",
      "mhamid\n",
      "yelm\n",
      "glendive\n",
      "socorro\n",
      "edmundston\n",
      "kenora\n",
      "bandon\n",
      "kuybyshevo\n",
      "saint-lys\n",
      "bain-de-bretagne\n",
      "duba\n",
      "arthur's town\n",
      "ghat\n",
      "ribeira grande\n",
      "west end\n",
      "ishpeming\n",
      "lompoc\n",
      "recani\n",
      "arkalyk\n",
      "tazacorte\n",
      "horta\n",
      "veydelevka\n",
      "mountain home\n",
      "lampasas\n",
      "general toshevo\n",
      "tralee\n",
      "stephenville\n",
      "coos bay\n",
      "saksaul'skiy\n",
      "beyneu\n",
      "dakhla\n",
      "shetpe\n",
      "metkovic\n",
      "hamilton\n"
     ]
    }
   ],
   "source": [
    "# Use nearest city to identify a city near each set of coordinates\n",
    "cityNames = []\n",
    "\n",
    "for coords in latLongs:\n",
    "        # try to get a city name\n",
    "        cityName = citipy.nearest_city(coords[0], coords[1]).city_name\n",
    "\n",
    "        # check to see if the city is unique, if so, add to the list\n",
    "        if cityName not in cityNames:\n",
    "            cityNames.append(cityName)\n",
    "            \n",
    "for c in cityNames:\n",
    "    print(c)"
   ]
  },
  {
   "cell_type": "code",
   "execution_count": 60,
   "id": "f5902731-318b-4ff2-b1c0-db86d617342e",
   "metadata": {},
   "outputs": [],
   "source": [
    "import requests\n",
    "import json\n",
    "import pandas as pd"
   ]
  },
  {
   "cell_type": "code",
   "execution_count": 61,
   "id": "3e9f8533-f7de-48f9-905f-bbc5163955e0",
   "metadata": {},
   "outputs": [],
   "source": [
    "# open wather api key\n",
    "api_keys = \"0bd2278df557b03681abe3f4ff47b83a\""
   ]
  },
  {
   "cell_type": "code",
   "execution_count": 62,
   "id": "9eadaffd-5737-4af1-af19-360523ab540d",
   "metadata": {},
   "outputs": [],
   "source": [
    "url = \"http://api.openweathermap.org/data/2.5/weather?\"\n",
    "units = 'imperial'\n",
    "# build the base query url \n",
    "queryURL = f\"{url}appid ={api_keys}&units={units}&q=\""
   ]
  },
  {
   "cell_type": "code",
   "execution_count": 63,
   "id": "89fd14c1-ad12-4ade-9d12-4a03b760d47d",
   "metadata": {},
   "outputs": [
    {
     "data": {
      "text/plain": [
       "{'cod': 401,\n",
       " 'message': 'Invalid API key. Please see https://openweathermap.org/faq#error401 for more info.'}"
      ]
     },
     "execution_count": 63,
     "metadata": {},
     "output_type": "execute_result"
    }
   ],
   "source": [
    "city = \"Charlotte\"\n",
    "queryURL += city\n",
    "\n",
    "weather = requests.get(queryURL)\n",
    "\n",
    "weatherJSON = weather.json() # same as requests.get(queryURL).json()\n",
    "weatherJSON\n"
   ]
  },
  {
   "cell_type": "code",
   "execution_count": null,
   "id": "76ad4867-e9f3-4ae8-a828-dfb51ec20b91",
   "metadata": {},
   "outputs": [],
   "source": []
  }
 ],
 "metadata": {
  "kernelspec": {
   "display_name": "Python 3 (ipykernel)",
   "language": "python",
   "name": "python3"
  },
  "language_info": {
   "codemirror_mode": {
    "name": "ipython",
    "version": 3
   },
   "file_extension": ".py",
   "mimetype": "text/x-python",
   "name": "python",
   "nbconvert_exporter": "python",
   "pygments_lexer": "ipython3",
   "version": "3.13.0"
  }
 },
 "nbformat": 4,
 "nbformat_minor": 5
}
